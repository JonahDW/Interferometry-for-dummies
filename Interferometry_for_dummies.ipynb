{
 "cells": [
  {
   "cell_type": "markdown",
   "id": "982a90bb",
   "metadata": {},
   "source": [
    "## Interferometry for dummies notebook\n",
    "\n",
    "This notebook should take you through some of the concepts that have been discussed in the lecture. Therefore, clues to all the solutions should be present in the slides. The purpose here is to get some hands-on experience, not to get hung up on coding issues. If you are stuck, there is an equivalent notebook containing the solutions from which you can draw inspiration."
   ]
  },
  {
   "cell_type": "code",
   "execution_count": 2,
   "id": "135db84e",
   "metadata": {},
   "outputs": [],
   "source": [
    "import numpy as np\n",
    "from copy import copy\n",
    "\n",
    "import matplotlib.pyplot as plt\n",
    "from astropy.convolution import convolve, Gaussian2DKernel\n",
    "from astropy.io import ascii, fits"
   ]
  },
  {
   "cell_type": "markdown",
   "id": "bb06450e",
   "metadata": {},
   "source": [
    "### Fourier transforms in 1D\n",
    "\n",
    "To get a feel for the fast Fourier transform functionality in numpy, see if you can get the primary beam pattern of single dish, assuming the aperture is uniformly illuminated.\n",
    "\n",
    "As the Fourier transform is discrete and finite, the resulting function will not be perfect. Check to see how the size of the aperture relative to the sampled space and the sampling interval influence the result.\n",
    "\n",
    "**If your results are strange or unexpected**: Whereas we like our signals to be in the middle of the sampled space for aesthetic reasons, the discrete Fourier transform follows the python indexing, which means that the 0-point will be right at the edges of the array. In general, `np.fft.fftshift` is your best friend here, and it is best to use it before and after every Fourier transform. Trust me, this will save you a lot of trouble."
   ]
  },
  {
   "cell_type": "code",
   "execution_count": null,
   "id": "f1594821",
   "metadata": {},
   "outputs": [],
   "source": []
  },
  {
   "cell_type": "markdown",
   "id": "fb3b2757",
   "metadata": {},
   "source": [
    "### Simulating MeerKAT observations\n",
    "\n",
    "In the data subdirectory, a text file is included with the UV-coverage of a MeerKAT observation. \n",
    "\n",
    "1. Start with plotting the UV-coverage, preferably in units of $k\\lambda$, assuming $\\lambda=$21 cm.\n",
    "\n",
    "2. Using 2D Fourier transforms, convert the UV-coverage to a Point-spread-function (PSF). To do this you need to define a grid for UV space first, which will define the resolution and size of your resulting image. **Bonus**: Implement both natural and uniform weighting schemes, and see how this influences the shape of the PSF. \n",
    "\n",
    "3. In the data subdirectory there is a fits file containing the sky emission from a FRII radio galaxy. Using the data just obtained, convolve this image with PSF using 2D Fourier transforms."
   ]
  },
  {
   "cell_type": "code",
   "execution_count": null,
   "id": "047af724",
   "metadata": {},
   "outputs": [],
   "source": [
    "#Load in MeerKAT UV-coverage\n",
    "meerkat_uv = ascii.read('data/MeerKAT_uv_coverage.txt')"
   ]
  },
  {
   "cell_type": "code",
   "execution_count": null,
   "id": "b276b35f",
   "metadata": {},
   "outputs": [],
   "source": [
    "def uv_points_to_psf(u, v, imsize, weighting):\n",
    "    '''\n",
    "    Grid and Fourier transform UV coverage to create a PSF\n",
    "    '''"
   ]
  },
  {
   "cell_type": "code",
   "execution_count": null,
   "id": "fd5f3070",
   "metadata": {},
   "outputs": [],
   "source": [
    "# Load in radio galaxy fits file\n",
    "radio_galaxy = fits.open('data/radio_galaxy.fits')[0].data"
   ]
  },
  {
   "cell_type": "code",
   "execution_count": null,
   "id": "793af9d6",
   "metadata": {},
   "outputs": [],
   "source": []
  },
  {
   "cell_type": "markdown",
   "id": "dd059fb3",
   "metadata": {},
   "source": [
    "### Implementing CLEAN\n",
    "\n",
    "In the data subdirectory you will find a dirty image containing a number of point sources. In the same directory an image of the PSF is included. \n",
    "\n",
    "To clean the image, implement the Högbom CLEAN algorithm as specified in the slides, including a gain factor, an iteration limit, and a noise treshold. To create the clean image, the 2D Gaussian fit to the central lobe of the beam is 11x7.8 pixels with PA of -110, I have already defined as an astropy kernel. I have also included a function which takes care of subtracting two images which are shifted w.r.t. each other."
   ]
  },
  {
   "cell_type": "code",
   "execution_count": null,
   "id": "ae775917",
   "metadata": {},
   "outputs": [],
   "source": [
    "# Conversion factor from FWHM to std\n",
    "a = 2*np.sqrt(2*np.log(2))\n",
    "\n",
    "maj_std = 11/a\n",
    "min_std = 7.8/a\n",
    "theta = np.deg2rad(-110)\n",
    "\n",
    "# Define clean beam\n",
    "clean_beam = Gaussian2DKernel(x_stddev = min_std,\n",
    "                              y_stddev = maj_std,\n",
    "                              theta=theta,\n",
    "                              x_size=51, y_size=51)\n",
    "# Normalize the beam\n",
    "clean_beam_normed = clean_beam.array/clean_beam.array.max()"
   ]
  },
  {
   "cell_type": "code",
   "execution_count": null,
   "id": "aed56f40",
   "metadata": {},
   "outputs": [],
   "source": [
    "def subtract_shifted_images(im1, im2, X, Y, amp):\n",
    "    '''\n",
    "    Subtract amp*im2 from im1, given an offset in X and Y\n",
    "    '''\n",
    "    im1_xshape = int(im1.shape[0]/2)\n",
    "    im1_yshape = int(im1.shape[1]/2)\n",
    "        \n",
    "    im2_xshape = int(im2.shape[0])\n",
    "    im2_yshape = int(im2.shape[1])\n",
    "    \n",
    "    minY = min(int(Y)-im1_yshape, 0)\n",
    "    minX = min(int(X)-im1_xshape, 0)\n",
    "    maxY = max(int(Y)+im1_yshape-im2_yshape, 0)\n",
    "    maxX = max(int(X)+im1_xshape-im2_xshape, 0)\n",
    "\n",
    "    im1[int(X)-im1_xshape-minX:int(X)+im1_xshape-maxX,\n",
    "        int(Y)-im1_yshape-minY:int(Y)+im1_yshape-maxY] -= amp*im2[-minX:im2_xshape-maxX,-minY:im2_yshape-maxY]\n",
    "    \n",
    "    return im1"
   ]
  },
  {
   "cell_type": "code",
   "execution_count": null,
   "id": "1ea478ec",
   "metadata": {},
   "outputs": [],
   "source": [
    "def hogbom_clean(dirty_image, psf, gain, niter, thresh):\n",
    "    '''\n",
    "    Implement Hogbom clean with gain, niter and threshold\n",
    "    '''"
   ]
  },
  {
   "cell_type": "code",
   "execution_count": null,
   "id": "441a9252",
   "metadata": {},
   "outputs": [],
   "source": [
    "# Load in dirty image and PSF\n",
    "dirty_image = fits.open('data/dirty_image.fits')[0].data\n",
    "psf = fits.open('data/psf.fits')[0].data"
   ]
  },
  {
   "cell_type": "code",
   "execution_count": null,
   "id": "5dd9f6b5",
   "metadata": {},
   "outputs": [],
   "source": []
  }
 ],
 "metadata": {
  "kernelspec": {
   "display_name": "Python 3 (ipykernel)",
   "language": "python",
   "name": "python3"
  },
  "language_info": {
   "codemirror_mode": {
    "name": "ipython",
    "version": 3
   },
   "file_extension": ".py",
   "mimetype": "text/x-python",
   "name": "python",
   "nbconvert_exporter": "python",
   "pygments_lexer": "ipython3",
   "version": "3.7.10"
  }
 },
 "nbformat": 4,
 "nbformat_minor": 5
}
