{
 "cells": [
  {
   "cell_type": "markdown",
   "id": "982a90bb",
   "metadata": {},
   "source": [
    "## Interferometry for dummies notebook"
   ]
  },
  {
   "cell_type": "code",
   "execution_count": null,
   "id": "135db84e",
   "metadata": {},
   "outputs": [],
   "source": [
    "import numpy as np\n",
    "from astropy.convolution import convolve, Gaussian2DKernel"
   ]
  }
 ],
 "metadata": {
  "kernelspec": {
   "display_name": "Python 3 (ipykernel)",
   "language": "python",
   "name": "python3"
  },
  "language_info": {
   "codemirror_mode": {
    "name": "ipython",
    "version": 3
   },
   "file_extension": ".py",
   "mimetype": "text/x-python",
   "name": "python",
   "nbconvert_exporter": "python",
   "pygments_lexer": "ipython3",
   "version": "3.9.7"
  }
 },
 "nbformat": 4,
 "nbformat_minor": 5
}
